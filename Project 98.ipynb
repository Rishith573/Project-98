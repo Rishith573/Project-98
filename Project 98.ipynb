{
 "cells": [
  {
   "cell_type": "code",
   "execution_count": 2,
   "id": "56ef337b",
   "metadata": {},
   "outputs": [
    {
     "name": "stdout",
     "output_type": "stream",
     "text": [
      "Enter the name of your file: sample1.txt\n",
      "Enter the name of the file you want to swap with: sample2.txt\n"
     ]
    }
   ],
   "source": [
    "def swapFileData():\n",
    "    file1 = input(\"Enter the name of your file: \")\n",
    "    file2 = input(\"Enter the name of the file you want to swap with: \")\n",
    "    \n",
    "    with open(file1, 'r') as a:\n",
    "      data_a = a.read()\n",
    "    \n",
    "    with open(file2, 'r') as b:\n",
    "      data_b = b.read()\n",
    "\n",
    "    with open(file1, 'w') as a:\n",
    "      a.write(data_b)\n",
    "\n",
    "    with open(file2, 'w') as b:\n",
    "      b.write(data_a)\n",
    "\n",
    "swapFileData()"
   ]
  },
  {
   "cell_type": "code",
   "execution_count": null,
   "id": "1c58375a",
   "metadata": {},
   "outputs": [],
   "source": []
  },
  {
   "cell_type": "code",
   "execution_count": null,
   "id": "3b2ebb6a",
   "metadata": {},
   "outputs": [],
   "source": []
  },
  {
   "cell_type": "code",
   "execution_count": 7,
   "id": "cff241e3",
   "metadata": {},
   "outputs": [],
   "source": []
  },
  {
   "cell_type": "code",
   "execution_count": null,
   "id": "5464a336",
   "metadata": {},
   "outputs": [],
   "source": []
  }
 ],
 "metadata": {
  "kernelspec": {
   "display_name": "Python 3 (ipykernel)",
   "language": "python",
   "name": "python3"
  },
  "language_info": {
   "codemirror_mode": {
    "name": "ipython",
    "version": 3
   },
   "file_extension": ".py",
   "mimetype": "text/x-python",
   "name": "python",
   "nbconvert_exporter": "python",
   "pygments_lexer": "ipython3",
   "version": "3.10.1"
  }
 },
 "nbformat": 4,
 "nbformat_minor": 5
}
